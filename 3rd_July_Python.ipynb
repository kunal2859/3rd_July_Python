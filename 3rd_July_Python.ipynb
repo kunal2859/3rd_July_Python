{
 "cells": [
  {
   "cell_type": "code",
   "execution_count": 1,
   "id": "edd36363",
   "metadata": {},
   "outputs": [
    {
     "name": "stdout",
     "output_type": "stream",
     "text": [
      "Given strimgs are anagram\n"
     ]
    }
   ],
   "source": [
    "#create function to check given string is anagram or not\n",
    "def anagram(s1,s2):\n",
    "    #sort both the strings and compare with each other\n",
    "    if(sorted(s1)==sorted(s2)):\n",
    "        print(\"Given strimgs are anagram\")\n",
    "    else:\n",
    "        print(\"Strings are not anagram\")\n",
    "\n",
    "#driver code\n",
    "s1=\"anagram\"\n",
    "s2=\"gramana\"\n",
    "anagram(s1,s2)"
   ]
  },
  {
   "cell_type": "code",
   "execution_count": 2,
   "id": "a84de585",
   "metadata": {},
   "outputs": [
    {
     "name": "stdout",
     "output_type": "stream",
     "text": [
      "Maximum:  300\n",
      "Minimum:  100\n"
     ]
    }
   ],
   "source": [
    "#creating dictionary\n",
    "my_dict={\"Kunal\":100, \"Ishank\":200, \"Harsh\":300}\n",
    "val=my_dict.values()\n",
    "Max=max(val)   #taking maximum value from dictionary\n",
    "Min=min(val)   #taking minimum value from dictionary\n",
    "print(\"Maximum: \",Max)\n",
    "print(\"Minimum: \",Min)"
   ]
  },
  {
   "cell_type": "code",
   "execution_count": 3,
   "id": "f202deed",
   "metadata": {},
   "outputs": [
    {
     "name": "stdout",
     "output_type": "stream",
     "text": [
      "4.0\n"
     ]
    }
   ],
   "source": [
    "#create list\n",
    "l=[1,2,3,4,5,6,7]\n",
    "total=sum(l)   #adding all values of list using sum function\n",
    "length=len(l)  #counting number of values in a list\n",
    "average=total/length\n",
    "print(average)"
   ]
  },
  {
   "cell_type": "code",
   "execution_count": 6,
   "id": "af02e12c",
   "metadata": {},
   "outputs": [
    {
     "name": "stdout",
     "output_type": "stream",
     "text": [
      "Knl ggrwl\n"
     ]
    }
   ],
   "source": [
    "my_str=\"Kunal Aggarwal\"\n",
    "vowels=['a','e','i','o','u']\n",
    "res=[i for i in my_str if i.lower() not in vowels]\n",
    "res=''.join(res)\n",
    "print(res)"
   ]
  },
  {
   "cell_type": "code",
   "execution_count": 7,
   "id": "333e851f",
   "metadata": {},
   "outputs": [
    {
     "data": {
      "text/plain": [
       "120"
      ]
     },
     "execution_count": 7,
     "metadata": {},
     "output_type": "execute_result"
    }
   ],
   "source": [
    "def fact(n):\n",
    "    if n==1:   #Basic test case\n",
    "        return 1\n",
    "    else:\n",
    "        return n*fact(n-1)   #Recursion\n",
    "\n",
    "fact(5)"
   ]
  },
  {
   "cell_type": "code",
   "execution_count": 9,
   "id": "02509506",
   "metadata": {},
   "outputs": [
    {
     "name": "stdout",
     "output_type": "stream",
     "text": [
      "5\n",
      "8 20 12 37 30\n",
      "5\n",
      "5 4 9 28 10\n",
      "Sorted merge list: \n",
      "4 5 8 9 10 12 20 28 30 37 "
     ]
    }
   ],
   "source": [
    "def initial_list(a,b,res,n,m):\n",
    "    #sorting list a and b\n",
    "    a.sort()\n",
    "    b.sort()\n",
    "    #merge two sorted list into res\n",
    "    i,j,k=0,0,0\n",
    "    while(i<n and j<m):\n",
    "        if(a[i]<=b[j]):\n",
    "            res[k]=a[i]\n",
    "            i+=1\n",
    "            k+=1\n",
    "        else:\n",
    "            res[k]=b[j]\n",
    "            j+=1\n",
    "            k+=1\n",
    "    while(i<n):   #merging all remaining values of list a\n",
    "        res[k]=a[i]\n",
    "        i+=1\n",
    "        k+=1\n",
    "    while(j<n):   #merging all remaining values of list b\n",
    "        res[k]=b[j]\n",
    "        j+=1\n",
    "        k+=1\n",
    "        \n",
    "#driver code\n",
    "n=int(input())   #Number of elements in first list\n",
    "A=list(map(int,input().split()))[:n]\n",
    "m=int(input())   #number of elements in second list\n",
    "B=list(map(int,input().split()))[:m]\n",
    "#final merge list\n",
    "res=[0 for i in range(n+m)]\n",
    "initial_list(A,B,res,n,m)\n",
    "print(\"Sorted merge list: \")\n",
    "for i in range(n+m):\n",
    "    print(res[i],end=\" \")"
   ]
  },
  {
   "cell_type": "code",
   "execution_count": 10,
   "id": "a4741381",
   "metadata": {},
   "outputs": [
    {
     "data": {
      "text/plain": [
       "4"
      ]
     },
     "execution_count": 10,
     "metadata": {},
     "output_type": "execute_result"
    }
   ],
   "source": [
    "def GCD(n1,n2):\n",
    "    if(n2==0):\n",
    "        return n1\n",
    "    else:\n",
    "        return GCD(n2,n1%n2)\n",
    "\n",
    "GCD(12,20)"
   ]
  },
  {
   "cell_type": "code",
   "execution_count": 11,
   "id": "83c9ac77",
   "metadata": {},
   "outputs": [
    {
     "name": "stdout",
     "output_type": "stream",
     "text": [
      "20\n"
     ]
    }
   ],
   "source": [
    "l=[10,4,5,28,9,10,20,12]\n",
    "l.sort()   #sorting the list\n",
    "print(l[-2])   #printing the second largest number in a list"
   ]
  },
  {
   "cell_type": "code",
   "execution_count": 12,
   "id": "227aea93",
   "metadata": {},
   "outputs": [
    {
     "name": "stdout",
     "output_type": "stream",
     "text": [
      "Length of LCS is  4\n"
     ]
    }
   ],
   "source": [
    "def lcs(X, Y):\n",
    "    # find the length of the strings\n",
    "    m = len(X)\n",
    "    n = len(Y)\n",
    " \n",
    "    # declaring the array for storing the dp values\n",
    "    L = [[None]*(n + 1) for i in range(m + 1)]\n",
    " \n",
    "    \"\"\"Following steps build L[m + 1][n + 1] in bottom up fashion\n",
    "    L[i][j] contains length of LCS of X[0..i-1]\n",
    "    and Y[0..j-1]\"\"\"\n",
    "    for i in range(m + 1):\n",
    "        for j in range(n + 1):\n",
    "            if i == 0 or j == 0 :\n",
    "                L[i][j] = 0\n",
    "            elif X[i-1] == Y[j-1]:\n",
    "                L[i][j] = L[i-1][j-1]+1\n",
    "            else:\n",
    "                L[i][j] = max(L[i-1][j], L[i][j-1])\n",
    " \n",
    "    # L[m][n] contains the length of LCS of X[0..n-1] & Y[0..m-1]\n",
    "    return L[m][n]\n",
    " \n",
    "# Driver program to test the above function\n",
    "X = \"AGGTAB\"\n",
    "Y = \"GXTXAYB\"\n",
    "print(\"Length of LCS is \", lcs(X, Y))"
   ]
  },
  {
   "cell_type": "code",
   "execution_count": null,
   "id": "f5238c3e",
   "metadata": {},
   "outputs": [],
   "source": []
  }
 ],
 "metadata": {
  "kernelspec": {
   "display_name": "Python 3 (ipykernel)",
   "language": "python",
   "name": "python3"
  },
  "language_info": {
   "codemirror_mode": {
    "name": "ipython",
    "version": 3
   },
   "file_extension": ".py",
   "mimetype": "text/x-python",
   "name": "python",
   "nbconvert_exporter": "python",
   "pygments_lexer": "ipython3",
   "version": "3.9.13"
  }
 },
 "nbformat": 4,
 "nbformat_minor": 5
}
